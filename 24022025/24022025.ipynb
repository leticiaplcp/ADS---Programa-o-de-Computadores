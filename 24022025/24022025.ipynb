{
 "cells": [
  {
   "cell_type": "markdown",
   "id": "b4c0d717-5244-4b16-a78d-a34690c5a9b2",
   "metadata": {},
   "source": [
    "# Exercicio"
   ]
  },
  {
   "cell_type": "code",
   "execution_count": 6,
   "id": "34e51bac-32e1-4c72-b5ad-f60566a50e5d",
   "metadata": {},
   "outputs": [
    {
     "name": "stdin",
     "output_type": "stream",
     "text": [
      "Qual é o seu nome? Leticia\n"
     ]
    }
   ],
   "source": [
    "nome = (str(input(\"Qual é o seu nome?\")))\n"
   ]
  },
  {
   "cell_type": "code",
   "execution_count": 9,
   "id": "04c5fdb2-9481-4562-9181-f8219ed9c7e1",
   "metadata": {},
   "outputs": [
    {
     "name": "stdout",
     "output_type": "stream",
     "text": [
      "Seja Bem-vidno(a) Leticia\n"
     ]
    },
    {
     "name": "stdin",
     "output_type": "stream",
     "text": [
      "Agora me diga a sua idade 18\n"
     ]
    }
   ],
   "source": [
    "print (\"Seja Bem-vindo(a)\", nome)\n",
    "idade = (int(input(\"Agora me diga a sua idade\")))"
   ]
  },
  {
   "cell_type": "code",
   "execution_count": 12,
   "id": "b530e176-2ec2-46d6-9b3c-8d27ce759761",
   "metadata": {},
   "outputs": [
    {
     "name": "stdout",
     "output_type": "stream",
     "text": [
      "Olá! Seu nome é  Leticia e você tem  18\n"
     ]
    }
   ],
   "source": [
    "print (\"Olá! Seu nome é \", nome, \"e você tem \", idade)"
   ]
  },
  {
   "cell_type": "code",
   "execution_count": null,
   "id": "f4e5469b-9792-445f-bc70-b47ac2ad825d",
   "metadata": {},
   "outputs": [],
   "source": []
  },
  {
   "cell_type": "code",
   "execution_count": null,
   "id": "cc8c8f51-0853-4ffd-bf77-accaad91e560",
   "metadata": {},
   "outputs": [],
   "source": []
  },
  {
   "cell_type": "code",
   "execution_count": null,
   "id": "786a4968-9261-4311-9d7f-edc79d231e70",
   "metadata": {},
   "outputs": [],
   "source": []
  }
 ],
 "metadata": {
  "kernelspec": {
   "display_name": "Python 3 (ipykernel)",
   "language": "python",
   "name": "python3"
  },
  "language_info": {
   "codemirror_mode": {
    "name": "ipython",
    "version": 3
   },
   "file_extension": ".py",
   "mimetype": "text/x-python",
   "name": "python",
   "nbconvert_exporter": "python",
   "pygments_lexer": "ipython3",
   "version": "3.13.1"
  }
 },
 "nbformat": 4,
 "nbformat_minor": 5
}
